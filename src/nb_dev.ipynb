{
 "cells": [
  {
   "cell_type": "code",
   "execution_count": 1,
   "id": "c028e0ad",
   "metadata": {},
   "outputs": [],
   "source": [
    "import json\n",
    "import os"
   ]
  },
  {
   "cell_type": "code",
   "execution_count": 2,
   "id": "f7ad38c3",
   "metadata": {},
   "outputs": [],
   "source": [
    "dataset_path = 'hp/hp1.txt'"
   ]
  },
  {
   "cell_type": "code",
   "execution_count": 5,
   "id": "3cf6810f",
   "metadata": {},
   "outputs": [
    {
     "data": {
      "text/plain": [
       "'hp1'"
      ]
     },
     "execution_count": 5,
     "metadata": {},
     "output_type": "execute_result"
    }
   ],
   "source": [
    "os.path.basename(dataset_path).split('.')[0]"
   ]
  },
  {
   "cell_type": "code",
   "execution_count": 4,
   "id": "e9a391f8",
   "metadata": {},
   "outputs": [],
   "source": [
    "def read_list_from_json(file_path):\n",
    "    with open(file_path, 'r', encoding='utf-8') as file:\n",
    "        data = json.load(file)\n",
    "    if isinstance(data, list):\n",
    "        return data\n",
    "    else:\n",
    "        raise ValueError(\"The JSON file does not contain a list.\")"
   ]
  },
  {
   "cell_type": "code",
   "execution_count": 7,
   "id": "88869f1b",
   "metadata": {},
   "outputs": [],
   "source": [
    "data = read_list_from_json('hp/hp1_questions.json')"
   ]
  },
  {
   "cell_type": "code",
   "execution_count": null,
   "id": "456e8a8e",
   "metadata": {},
   "outputs": [],
   "source": [
    "n_list, k_list, q_list = [], [], []\n",
    "for d in data:\n",
    "    if d['output'] is None:\n",
    "        print(f\"n = {d['history_upto']}, k = {d['context']}\")\n",
    "        continue\n",
    "    n_list.append(d['history_upto'])\n",
    "    k_list.append(d['context'])\n",
    "    q_list.append(d['output'])\n",
    "    print(f\"number of questions: {len(d['output'])}\")"
   ]
  },
  {
   "cell_type": "code",
   "execution_count": 21,
   "id": "237d7e99",
   "metadata": {},
   "outputs": [],
   "source": [
    "keys = ['question', 'A', 'B', 'C', 'D', 'answer', 'explanation']"
   ]
  },
  {
   "cell_type": "code",
   "execution_count": 22,
   "id": "3cdc51d6",
   "metadata": {},
   "outputs": [],
   "source": [
    "for d in data:\n",
    "    a = [list(q.keys()) == keys for q in d['output']]\n",
    "    if not all(a):\n",
    "        print(\"Fail!\")"
   ]
  }
 ],
 "metadata": {
  "kernelspec": {
   "display_name": ".venv",
   "language": "python",
   "name": "python3"
  },
  "language_info": {
   "codemirror_mode": {
    "name": "ipython",
    "version": 3
   },
   "file_extension": ".py",
   "mimetype": "text/x-python",
   "name": "python",
   "nbconvert_exporter": "python",
   "pygments_lexer": "ipython3",
   "version": "3.11.12"
  }
 },
 "nbformat": 4,
 "nbformat_minor": 5
}
