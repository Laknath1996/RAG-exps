{
 "cells": [
  {
   "cell_type": "code",
   "execution_count": 55,
   "id": "27feaa48",
   "metadata": {},
   "outputs": [],
   "source": [
    "from datasets import load_dataset\n",
    "import google.generativeai as genai\n",
    "\n",
    "from transformers import AutoTokenizer\n",
    "\n",
    "import json\n",
    "import re"
   ]
  },
  {
   "cell_type": "code",
   "execution_count": null,
   "id": "e4a3362e",
   "metadata": {},
   "outputs": [],
   "source": [
    "ds = load_dataset(\"elricwan/HarryPotter\")\n",
    "text = ds['train'][0]['content']"
   ]
  },
  {
   "cell_type": "code",
   "execution_count": null,
   "id": "f9a45a55",
   "metadata": {},
   "outputs": [
    {
     "name": "stdout",
     "output_type": "stream",
     "text": [
      "models/gemini-1.0-pro-vision-latest\n",
      "models/gemini-pro-vision\n",
      "models/gemini-1.5-pro-latest\n",
      "models/gemini-1.5-pro-001\n",
      "models/gemini-1.5-pro-002\n",
      "models/gemini-1.5-pro\n",
      "models/gemini-1.5-flash-latest\n",
      "models/gemini-1.5-flash-001\n",
      "models/gemini-1.5-flash-001-tuning\n",
      "models/gemini-1.5-flash\n",
      "models/gemini-1.5-flash-002\n",
      "models/gemini-1.5-flash-8b\n",
      "models/gemini-1.5-flash-8b-001\n",
      "models/gemini-1.5-flash-8b-latest\n",
      "models/gemini-1.5-flash-8b-exp-0827\n",
      "models/gemini-1.5-flash-8b-exp-0924\n",
      "models/gemini-2.5-pro-exp-03-25\n",
      "models/gemini-2.5-pro-preview-03-25\n",
      "models/gemini-2.0-flash-exp\n",
      "models/gemini-2.0-flash\n",
      "models/gemini-2.0-flash-001\n",
      "models/gemini-2.0-flash-exp-image-generation\n",
      "models/gemini-2.0-flash-lite-001\n",
      "models/gemini-2.0-flash-lite\n",
      "models/gemini-2.0-flash-lite-preview-02-05\n",
      "models/gemini-2.0-flash-lite-preview\n",
      "models/gemini-2.0-pro-exp\n",
      "models/gemini-2.0-pro-exp-02-05\n",
      "models/gemini-exp-1206\n",
      "models/gemini-2.0-flash-thinking-exp-01-21\n",
      "models/gemini-2.0-flash-thinking-exp\n",
      "models/gemini-2.0-flash-thinking-exp-1219\n",
      "models/learnlm-1.5-pro-experimental\n",
      "models/gemma-3-1b-it\n",
      "models/gemma-3-4b-it\n",
      "models/gemma-3-12b-it\n",
      "models/gemma-3-27b-it\n"
     ]
    }
   ],
   "source": [
    "GOOGLE_API_KEY = \"\"\n",
    "genai.configure(api_key=GOOGLE_API_KEY)\n",
    "\n",
    "for m in genai.list_models():\n",
    "    if 'generateContent' in m.supported_generation_methods:\n",
    "        print(m.name)"
   ]
  },
  {
   "cell_type": "code",
   "execution_count": null,
   "id": "728befe8",
   "metadata": {},
   "outputs": [],
   "source": [
    "def get_prompt(history, context):\n",
    "    template = \"\"\"\n",
    "    You are reading a book. The portion you have already read is referred to as the **history**, and a new **context** (an excerpt from a later part of the book) is provided. \n",
    "\n",
    "    Your task is to generate **10 multiple-choice questions** based on the *context*. However, the **correct answers to these questions must depend on the information provided in the history**—not just the context alone.\n",
    "\n",
    "    Each question should have:\n",
    "    - A clear and concise question stem\n",
    "    - Four answer choices (A, B, C, D)\n",
    "    - One correct answer that relies on the history\n",
    "    - A brief explanation of why the correct answer is correct (optional but recommended for clarity)\n",
    "\n",
    "    Here are the inputs:\n",
    "\n",
    "    **History**:  \n",
    "    {history}\n",
    "\n",
    "    **Context**:  \n",
    "    {context}\n",
    "\n",
    "    Now, generate 50 multiple-choice questions as described above and return your response strictly in JSON format.\n",
    "    \"\"\"\n",
    "    return template.format(history=history, context=context)"
   ]
  },
  {
   "cell_type": "code",
   "execution_count": 20,
   "id": "f55469ab",
   "metadata": {},
   "outputs": [],
   "source": [
    "chapters = text.split(\"CHAPTER\")"
   ]
  },
  {
   "cell_type": "code",
   "execution_count": 31,
   "id": "bbf0e1b3",
   "metadata": {},
   "outputs": [],
   "source": [
    "history = chapters[1]\n",
    "context = chapters[2]"
   ]
  },
  {
   "cell_type": "code",
   "execution_count": 24,
   "id": "3b375840",
   "metadata": {},
   "outputs": [],
   "source": [
    "test_model_name = \"Qwen/Qwen2.5-1.5B-Instruct\"\n",
    "tokenizer = AutoTokenizer.from_pretrained(test_model_name)"
   ]
  },
  {
   "cell_type": "code",
   "execution_count": 33,
   "id": "cb537d4b",
   "metadata": {},
   "outputs": [
    {
     "name": "stdout",
     "output_type": "stream",
     "text": [
      "# of history tokens : 6191\n",
      "# of context tokens : 4453\n"
     ]
    }
   ],
   "source": [
    "history_tokens = tokenizer.encode(history)\n",
    "context_tokens = tokenizer.encode(context)\n",
    "print(f\"# of history tokens : {len(history_tokens)}\")\n",
    "print(f\"# of context tokens : {len(context_tokens)}\")"
   ]
  },
  {
   "cell_type": "code",
   "execution_count": 40,
   "id": "1280cd5f",
   "metadata": {},
   "outputs": [],
   "source": [
    "# model = genai.GenerativeModel('gemini-1.5-flash-8b')\n",
    "model = genai.GenerativeModel('gemini-1.5-pro')"
   ]
  },
  {
   "cell_type": "code",
   "execution_count": 47,
   "id": "59e70b1a",
   "metadata": {},
   "outputs": [
    {
     "name": "stdout",
     "output_type": "stream",
     "text": [
      "```json\n",
      "[\n",
      "  {\n",
      "    \"question\": \"Why does Harry live with the Dursleys?\",\n",
      "    \"options\": {\n",
      "      \"A\": \"He is an orphan and they are his closest living relatives.\",\n",
      "      \"B\": \"He chose to live with them after his parents' death.\",\n",
      "      \"C\": \"They adopted him after his parents abandoned him.\",\n",
      "      \"D\": \"He is their biological son, but they keep it a secret.\"\n",
      "    },\n",
      "    \"answer\": \"A\",\n",
      "    \"explanation\": \"The history explains that Harry's parents, the Potters, died and the Dursleys are his only remaining family.\"\n",
      "  },\n",
      "  {\n",
      "    \"question\": \"Why are the Dursleys reluctant to take Harry to the zoo?\",\n",
      "    \"options\": {\n",
      "      \"A\": \"They dislike zoos and prefer other outings.\",\n",
      "      \"B\": \"They are worried Harry will misbehave in public.\",\n",
      "      \"C\": \"They cannot afford the zoo entrance fees.\",\n",
      "      \"D\": \"They fear Harry's presence will somehow ruin Dudley's birthday.\"\n",
      "    },\n",
      "    \"answer\": \"D\",\n",
      "    \"explanation\": \"The context shows they're mainly concerned with keeping Dudley happy and consider Harry a nuisance.\"\n",
      "  },\n",
      "  {\n",
      "    \"question\": \"What is the Dursleys' biggest secret?\",\n",
      "    \"options\": {\n",
      "      \"A\": \"Mr. Dursley's illegal business dealings.\",\n",
      "      \"B\": \"Their connection to the magical world through Mrs. Dursley's sister.\",\n",
      "      \"C\": \"Dudley's poor academic performance at school.\",\n",
      "      \"D\": \"A hidden treasure they found in their garden.\"\n",
      "    },\n",
      "    \"answer\": \"B\",\n",
      "    \"explanation\": \"The history establishes Mrs. Dursley's sister is Mrs. Potter, linking them to Harry and the magical events.\"\n",
      "  },\n",
      "  {\n",
      "    \"question\": \"What is Harry's scar shaped like?\",\n",
      "    \"options\": {\n",
      "      \"A\": \"A star.\",\n",
      "      \"B\": \"A crescent moon.\",\n",
      "      \"C\": \"A lightning bolt.\",\n",
      "      \"D\": \"A skull.\"\n",
      "    },\n",
      "    \"answer\": \"C\",\n",
      "    \"explanation\": \"Both history and context mention the lightning bolt shaped scar.\"\n",
      "  },\n",
      "  {\n",
      "    \"question\": \"Why does Uncle Vernon yell at Harry about motorcycles?\",\n",
      "    \"options\": {\n",
      "      \"A\": \"Harry crashed his motorcycle.\",\n",
      "      \"B\": \"Harry was riding a motorcycle recklessly.\",\n",
      "      \"C\": \"Harry mentioned a flying motorcycle in his dream, which Vernon finds absurd.\",\n",
      "      \"D\": \"Harry wants a motorcycle, which Vernon disapproves of.\"\n",
      "    },\n",
      "    \"answer\": \"C\",\n",
      "    \"explanation\": \"The context explains Vernon's outburst followed Harry's dream about a flying motorcycle.\"\n",
      "  },\n",
      "  {\n",
      "    \"question\": \"How did Harry get his scar?\",\n",
      "    \"options\": {\n",
      "      \"A\": \"Dudley hit him with a rock.\",\n",
      "      \"B\": \"He fell off his bicycle.\",\n",
      "      \"C\": \"It is the result of Voldemort's attack, the same attack that killed his parents.\",\n",
      "      \"D\": \"He was injured in the car crash that killed his parents, according to the Dursleys.\"\n",
      "    },\n",
      "    \"answer\": \"C\",\n",
      "    \"explanation\": \"The history details Voldemort's attack and its connection to the scar, although the Dursleys claim it was a car crash.\"\n",
      "  },\n",
      "  {\n",
      "    \"question\": \"Who is Mrs. Figg?\",\n",
      "    \"options\": {\n",
      "      \"A\": \"Dudley's teacher.\",\n",
      "      \"B\": \"Aunt Petunia's best friend.\",\n",
      "      \"C\": \"A neighbor whom the Dursleys leave Harry with.\",\n",
      "      \"D\": \"Harry's grandmother.\"\n",
      "    },\n",
      "    \"answer\": \"C\",\n",
      "    \"explanation\": \"The context identifies Mrs. Figg as the person Harry is usually left with.\"\n",
      "  },\n",
      "  {\n",
      "    \"question\": \"Why is Harry used to spiders?\",\n",
      "    \"options\": {\n",
      "      \"A\": \"He keeps them as pets.\",\n",
      "      \"B\": \"He plays in the garden often.\",\n",
      "      \"C\": \"He sleeps in the cupboard under the stairs, which is full of spiders.\",\n",
      "      \"D\": \"He studies them for school projects.\"\n",
      "    },\n",
      "    \"answer\": \"C\",\n",
      "    \"explanation\": \"The context mentions Harry finding spiders on his socks because he sleeps in the cupboard under the stairs.\"\n",
      "  },\n",
      "{\n",
      "    \"question\": \"What unusual events occurred on the day Harry was left on the Dursleys' doorstep?\",\n",
      "    \"options\": {\n",
      "      \"A\": \"A heavy snowfall in July and a flock of parrots.\",\n",
      "      \"B\": \"A solar eclipse and a swarm of butterflies.\",\n",
      "      \"C\": \"Shooting stars and owls flying in daylight.\",\n",
      "      \"D\": \"A hailstorm and a migration of ladybugs.\"\n",
      "    },\n",
      "    \"answer\": \"C\",\n",
      "    \"explanation\": \"The history specifically mentions the shooting stars and owls flying during the day, celebrating Voldemort's downfall.\"\n",
      "  },\n",
      "  {\n",
      "    \"question\": \"Why are strangers sometimes nice to Harry?\",\n",
      "    \"options\": {\n",
      "      \"A\": \"They recognize him as a celebrity.\",\n",
      "      \"B\": \"They are members of the wizarding world who know his true identity.\",\n",
      "      \"C\": \"They mistake him for another child.\",\n",
      "      \"D\": \"They feel sorry for him because of his old clothes.\"\n",
      "    },\n",
      "    \"answer\": \"B\",\n",
      "    \"explanation\": \"The history shows the wizarding world is aware of Harry and his significance, even if Harry himself doesn't fully understand it yet.\"\n",
      "  }\n",
      "]\n",
      "```\n"
     ]
    }
   ],
   "source": [
    "prompt = get_prompt(history, context)\n",
    "response = model.generate_content(prompt)\n",
    "print(response.text)"
   ]
  },
  {
   "cell_type": "code",
   "execution_count": 80,
   "id": "bbf29a55",
   "metadata": {},
   "outputs": [],
   "source": [
    "output = response.text "
   ]
  },
  {
   "cell_type": "code",
   "execution_count": null,
   "id": "4077dcfe",
   "metadata": {},
   "outputs": [],
   "source": [
    "pattern = r'\\[(.*?)\\]'\n",
    "result = re.search(pattern, output, re.DOTALL) \n",
    "if result:\n",
    "    json_content = \"[\" + result.group(1) + \"]\"\n",
    "    print(json_content)"
   ]
  },
  {
   "cell_type": "code",
   "execution_count": 82,
   "id": "de7158d6",
   "metadata": {},
   "outputs": [
    {
     "name": "stdout",
     "output_type": "stream",
     "text": [
      "JSON successfully saved to questions.json\n"
     ]
    }
   ],
   "source": [
    "try:\n",
    "    # Parse the JSON to ensure it's valid\n",
    "    json_data = json.loads(json_content)\n",
    "    \n",
    "    # Write to file with nice formatting\n",
    "    with open('questions.json', 'w', encoding='utf-8') as f:\n",
    "        json.dump(json_data, f, indent=2)\n",
    "    \n",
    "    print(\"JSON successfully saved to questions.json\")\n",
    "except json.JSONDecodeError as e:\n",
    "    print(f\"Error: Invalid JSON: {e}\")"
   ]
  }
 ],
 "metadata": {
  "kernelspec": {
   "display_name": ".venv",
   "language": "python",
   "name": "python3"
  },
  "language_info": {
   "codemirror_mode": {
    "name": "ipython",
    "version": 3
   },
   "file_extension": ".py",
   "mimetype": "text/x-python",
   "name": "python",
   "nbconvert_exporter": "python",
   "pygments_lexer": "ipython3",
   "version": "3.11.11"
  }
 },
 "nbformat": 4,
 "nbformat_minor": 5
}
