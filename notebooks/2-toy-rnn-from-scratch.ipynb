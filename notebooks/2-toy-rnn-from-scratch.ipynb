{
 "cells": [
  {
   "cell_type": "markdown",
   "id": "77ad181d",
   "metadata": {},
   "source": [
    "# Todo\n",
    "\n",
    "* Do the experiment over several random seeds\n",
    "* Plot everything in the same axis\n",
    "* done -- Use the pytorch RNN cell to get the same result\n",
    "* done -- Play with the hidden size\n",
    "* done -- Only finetune on the new data\n",
    "* done -- Use MAE to compute the test loss\n",
    "* done -- play with the sampling frequency"
   ]
  },
  {
   "cell_type": "code",
   "execution_count": 1,
   "id": "0535c2c1",
   "metadata": {},
   "outputs": [],
   "source": [
    "import torch\n",
    "import torch.nn as nn\n",
    "import numpy as np\n",
    "from tqdm import tqdm\n",
    "import matplotlib.pyplot as plt\n",
    "import random\n",
    "from collections import namedtuple"
   ]
  },
  {
   "cell_type": "code",
   "execution_count": 2,
   "id": "183920b4",
   "metadata": {},
   "outputs": [],
   "source": [
    "def generate_sequence(c=0.005, f_0=0, sf=10):\n",
    "    \"\"\"\n",
    "    Generate a linear chirp. x is the time-domain signal and f is the instantaneous frequency\n",
    "    \"\"\"\n",
    "    t = np.arange(0, 50, 1/sf)\n",
    "    f = c * t + f_0\n",
    "    phi = 2 * np.pi * (c / 2 * t**2 + f_0 * t)\n",
    "    x = np.sin(phi)\n",
    "    return x, f, t"
   ]
  },
  {
   "cell_type": "code",
   "execution_count": 3,
   "id": "27585728",
   "metadata": {},
   "outputs": [],
   "source": [
    "def set_seed(seed):\n",
    "    torch.manual_seed(seed)\n",
    "    np.random.seed(seed)\n",
    "    random.seed(seed)\n",
    "    if torch.cuda.is_available():\n",
    "        torch.cuda.manual_seed(seed)\n",
    "        torch.cuda.manual_seed_all(seed)\n",
    "    torch.backends.cudnn.deterministic = True\n",
    "    torch.backends.cudnn.benchmark = False"
   ]
  },
  {
   "cell_type": "code",
   "execution_count": 22,
   "id": "3ebc812d",
   "metadata": {},
   "outputs": [],
   "source": [
    "class RNNCell(nn.Module):\n",
    "    def __init__(self, input_size, hidden_size, output_size):\n",
    "        super(RNNCell, self).__init__()\n",
    "        self.hidden_size = hidden_size\n",
    "\n",
    "        # Input to hidden\n",
    "        self.i2h = nn.Linear(input_size + hidden_size, hidden_size)\n",
    "        # Hidden to output\n",
    "        self.h2o = nn.Linear(hidden_size, output_size)\n",
    "        self.activation = nn.Tanh()\n",
    "\n",
    "        # self.initialize_weights()\n",
    "\n",
    "    def forward(self, x, h):\n",
    "        combined = torch.cat((x, h), dim=1)\n",
    "        h_next = self.activation(self.i2h(combined))\n",
    "        output = self.h2o(h_next)\n",
    "        return output, h_next\n",
    "\n",
    "    def initialize_weights(self):\n",
    "        for layer in [self.i2h, self.h2o]:\n",
    "            nn.init.xavier_uniform_(layer.weight)\n",
    "            nn.init.zeros_(layer.bias)"
   ]
  },
  {
   "cell_type": "code",
   "execution_count": 23,
   "id": "51c08110",
   "metadata": {},
   "outputs": [],
   "source": [
    "def train_rnn(rnn, data, t, t_pretrain, hp, ignore_pretrained_data=False):\n",
    "    # train the RNN on the first t steps of the sequence\n",
    "    X, Y = data\n",
    "    input_seq, output_seq = X[:t], Y[:t]\n",
    "    len_seq = len(input_seq)\n",
    "\n",
    "    rnn.train()\n",
    "    optimizer = torch.optim.Adam(rnn.parameters(), lr=hp.lr)\n",
    "    criterion = nn.MSELoss(reduction='none')\n",
    "    pbar = tqdm(range(hp.num_epochs))\n",
    "\n",
    "    for epoch in pbar:\n",
    "        # initialize hidden state\n",
    "        h = torch.zeros(1, rnn.hidden_size)\n",
    "        \n",
    "        # iterate over the sequence\n",
    "        outs = []\n",
    "        ys = []\n",
    "        for k in range(len_seq):\n",
    "            x = torch.tensor(input_seq[k]).view(1, -1).float()\n",
    "            y = torch.tensor(output_seq[k]).view(1).float()\n",
    "            out, h = rnn(x, h)\n",
    "            outs.append(out)\n",
    "            ys.append(y)\n",
    "        outs = torch.stack(outs).squeeze()\n",
    "        ys = torch.stack(ys).squeeze()\n",
    "        \n",
    "        # compute loss\n",
    "        unmasked_losses = criterion(outs, ys)\n",
    "        if ignore_pretrained_data:\n",
    "            mask = torch.zeros_like(unmasked_losses, dtype=torch.bool)\n",
    "            mask[t_pretrain:] = True\n",
    "            masked_losses = unmasked_losses * mask.float()\n",
    "            loss = masked_losses.mean()\n",
    "        else:\n",
    "            loss = unmasked_losses.mean()\n",
    "\n",
    "        # backpropagation\n",
    "        optimizer.zero_grad()\n",
    "        loss.backward()\n",
    "        optimizer.step()\n",
    "        pbar.set_description(f\"Epoch {epoch+1}/{hp.num_epochs}, Loss: {loss.item()/len_seq:.4f}\")\n",
    "    return rnn\n",
    "\n",
    "def evaluate(rnn, data, t):\n",
    "    # get data (only evaluate on the future, beyond t)\n",
    "    X, Y = data\n",
    "    input_seq, output_seq = X, Y\n",
    "\n",
    "    rnn.eval()\n",
    "    with torch.no_grad():\n",
    "        h = torch.zeros(1, rnn.hidden_size)\n",
    "        loss = []\n",
    "        for k in range(len(input_seq)):\n",
    "            x = torch.tensor(input_seq[k]).view(1, -1).float()\n",
    "            y = torch.tensor(output_seq[k]).view(1).float()\n",
    "            out, h = rnn(x, h)\n",
    "            loss.append((out.squeeze() - y).abs().detach().numpy()) # MAE\n",
    "    return np.mean(loss[t:])\n",
    "\n",
    "def pretrain(data, t, hp, sample_rate, seed=1996):\n",
    "    \"\"\"\n",
    "    pretrain the RNN on the first t steps of the sequence\n",
    "    \"\"\"\n",
    "    t = int(t * sample_rate)\n",
    "\n",
    "    # initialize\n",
    "    set_seed(seed)\n",
    "    rnn = RNNCell(1, hp.hidden_size, 1)\n",
    "\n",
    "    if t > 0:\n",
    "        rnn = train_rnn(rnn, data, t, t, hp, ignore_pretrained_data=False)\n",
    "    error = evaluate(rnn, data, t)\n",
    "    return rnn.state_dict(), error\n",
    "\n",
    "def run_at_time(data, t, t_pretrain, pretrained_state_dict, hp, sample_rate, ignore_pretrained_data=False, finetune=True, seed=1996):\n",
    "    \"\"\"\n",
    "    We train an RNN to predict the instantaneous frequency in the future, given the time-domain value and the previous state.\n",
    "\n",
    "    The RNN pretrained on the first `t_pretrain` steps of the sequence.\n",
    "\n",
    "    When train == True: \n",
    "        The RNN is trained on the first t (including the pretraining data) steps of the sequence and evaluated on the future steps\n",
    "\n",
    "    When train == False\n",
    "        The RNN is not trained at all (no gradient steps)    \n",
    "    \"\"\"\n",
    "    t = int(t * sample_rate)\n",
    "    t_pretrain = int(t_pretrain * sample_rate)\n",
    "\n",
    "    # initialize\n",
    "    set_seed(seed)\n",
    "    rnn = RNNCell(1, hp.hidden_size, 1)\n",
    "    rnn.load_state_dict(pretrained_state_dict)\n",
    "\n",
    "    # train\n",
    "    if finetune:\n",
    "        rnn = train_rnn(rnn, data, t, t_pretrain, hp, ignore_pretrained_data=ignore_pretrained_data)\n",
    "\n",
    "    # evaluate\n",
    "    error = evaluate(rnn, data, t)\n",
    "    \n",
    "    return error"
   ]
  },
  {
   "cell_type": "code",
   "execution_count": 24,
   "id": "1ca903dc",
   "metadata": {},
   "outputs": [],
   "source": [
    "sample_rate = 10\n",
    "hidden_size = 8\n",
    "\n",
    "lr_pretrain = 0.001\n",
    "num_epochs_pretrain = 100\n",
    "\n",
    "lr_finetune = 0.001\n",
    "num_epochs_finetune = 100\n",
    "\n",
    "t_pretrain = 10\n",
    "t_list = np.arange(10+1, 25, 1)\n",
    "\n",
    "Hyperparameters = namedtuple('Hyperparameters', ['hidden_size', 'lr', 'num_epochs'])\n",
    "hp_pretrain = Hyperparameters(hidden_size=hidden_size, lr=lr_pretrain, num_epochs=num_epochs_pretrain)\n",
    "hp_finetune = Hyperparameters(hidden_size=hidden_size, lr=lr_finetune, num_epochs=num_epochs_finetune)"
   ]
  },
  {
   "cell_type": "code",
   "execution_count": 25,
   "id": "a99a4d43",
   "metadata": {},
   "outputs": [],
   "source": [
    "X, Y, _ = generate_sequence(sf=sample_rate)"
   ]
  },
  {
   "cell_type": "code",
   "execution_count": 26,
   "id": "ba8cf2f4",
   "metadata": {},
   "outputs": [
    {
     "name": "stderr",
     "output_type": "stream",
     "text": [
      "Epoch 100/100, Loss: 0.0000: 100%|██████████| 100/100 [00:04<00:00, 23.15it/s]\n"
     ]
    },
    {
     "name": "stdout",
     "output_type": "stream",
     "text": [
      "t = 11\n"
     ]
    },
    {
     "name": "stderr",
     "output_type": "stream",
     "text": [
      "Epoch 100/100, Loss: 0.0000: 100%|██████████| 100/100 [00:03<00:00, 25.05it/s]\n"
     ]
    },
    {
     "name": "stdout",
     "output_type": "stream",
     "text": [
      "t = 12\n"
     ]
    },
    {
     "name": "stderr",
     "output_type": "stream",
     "text": [
      "Epoch 100/100, Loss: 0.0000: 100%|██████████| 100/100 [00:05<00:00, 17.56it/s]\n"
     ]
    },
    {
     "name": "stdout",
     "output_type": "stream",
     "text": [
      "t = 13\n"
     ]
    },
    {
     "name": "stderr",
     "output_type": "stream",
     "text": [
      "Epoch 100/100, Loss: 0.0000: 100%|██████████| 100/100 [00:05<00:00, 17.69it/s]\n"
     ]
    },
    {
     "name": "stdout",
     "output_type": "stream",
     "text": [
      "t = 14\n"
     ]
    },
    {
     "name": "stderr",
     "output_type": "stream",
     "text": [
      "Epoch 100/100, Loss: 0.0000: 100%|██████████| 100/100 [00:05<00:00, 17.11it/s]\n"
     ]
    },
    {
     "name": "stdout",
     "output_type": "stream",
     "text": [
      "t = 15\n"
     ]
    },
    {
     "name": "stderr",
     "output_type": "stream",
     "text": [
      "Epoch 100/100, Loss: 0.0000: 100%|██████████| 100/100 [00:07<00:00, 13.33it/s]\n"
     ]
    },
    {
     "name": "stdout",
     "output_type": "stream",
     "text": [
      "t = 16\n"
     ]
    },
    {
     "name": "stderr",
     "output_type": "stream",
     "text": [
      "Epoch 100/100, Loss: 0.0000: 100%|██████████| 100/100 [00:05<00:00, 17.87it/s]\n"
     ]
    },
    {
     "name": "stdout",
     "output_type": "stream",
     "text": [
      "t = 17\n"
     ]
    },
    {
     "name": "stderr",
     "output_type": "stream",
     "text": [
      "Epoch 100/100, Loss: 0.0000: 100%|██████████| 100/100 [00:06<00:00, 15.29it/s]\n"
     ]
    },
    {
     "name": "stdout",
     "output_type": "stream",
     "text": [
      "t = 18\n"
     ]
    },
    {
     "name": "stderr",
     "output_type": "stream",
     "text": [
      "Epoch 100/100, Loss: 0.0000: 100%|██████████| 100/100 [00:05<00:00, 16.86it/s]\n"
     ]
    },
    {
     "name": "stdout",
     "output_type": "stream",
     "text": [
      "t = 19\n"
     ]
    },
    {
     "name": "stderr",
     "output_type": "stream",
     "text": [
      "Epoch 100/100, Loss: 0.0000: 100%|██████████| 100/100 [00:06<00:00, 15.57it/s]\n"
     ]
    },
    {
     "name": "stdout",
     "output_type": "stream",
     "text": [
      "t = 20\n"
     ]
    },
    {
     "name": "stderr",
     "output_type": "stream",
     "text": [
      "Epoch 100/100, Loss: 0.0000: 100%|██████████| 100/100 [00:07<00:00, 13.58it/s]\n"
     ]
    },
    {
     "name": "stdout",
     "output_type": "stream",
     "text": [
      "t = 21\n"
     ]
    },
    {
     "name": "stderr",
     "output_type": "stream",
     "text": [
      "Epoch 100/100, Loss: 0.0000: 100%|██████████| 100/100 [00:07<00:00, 13.21it/s]\n"
     ]
    },
    {
     "name": "stdout",
     "output_type": "stream",
     "text": [
      "t = 22\n"
     ]
    },
    {
     "name": "stderr",
     "output_type": "stream",
     "text": [
      "Epoch 100/100, Loss: 0.0000: 100%|██████████| 100/100 [00:07<00:00, 13.48it/s]\n"
     ]
    },
    {
     "name": "stdout",
     "output_type": "stream",
     "text": [
      "t = 23\n"
     ]
    },
    {
     "name": "stderr",
     "output_type": "stream",
     "text": [
      "Epoch 100/100, Loss: 0.0000: 100%|██████████| 100/100 [00:08<00:00, 11.36it/s]\n"
     ]
    },
    {
     "name": "stdout",
     "output_type": "stream",
     "text": [
      "t = 24\n"
     ]
    },
    {
     "name": "stderr",
     "output_type": "stream",
     "text": [
      "Epoch 100/100, Loss: 0.0000: 100%|██████████| 100/100 [00:10<00:00,  9.15it/s]\n"
     ]
    }
   ],
   "source": [
    "err_ft_list = []\n",
    "err_noft_list = []\n",
    "\n",
    "pretrained_state_dict, initial_error = pretrain((X, Y), t_pretrain, hp_pretrain, sample_rate)\n",
    "\n",
    "for t in t_list:\n",
    "    print(f\"t = {t}\")\n",
    "    err = run_at_time((X, Y), t, t_pretrain, pretrained_state_dict, hp_finetune, sample_rate, ignore_pretrained_data=False, finetune=True)\n",
    "    err_ft_list.append(err)\n",
    "\n",
    "    err = run_at_time((X, Y), t, t_pretrain, pretrained_state_dict, hp_finetune, sample_rate, ignore_pretrained_data=False, finetune=False)\n",
    "    err_noft_list.append(err)"
   ]
  },
  {
   "cell_type": "code",
   "execution_count": 27,
   "id": "9f2c836f",
   "metadata": {},
   "outputs": [
    {
     "data": {
      "image/png": "[encoded data removed]",
      "text/plain": [
       "<Figure size 1000x600 with 1 Axes>"
      ]
     },
     "metadata": {},
     "output_type": "display_data"
    }
   ],
   "source": [
    "plt.figure(figsize=(10, 6))\n",
    "plt.plot(t_list, err_ft_list, label='Finetuning', marker='o')\n",
    "plt.plot(t_list, err_noft_list, label='No Finetuning', marker='x')\n",
    "plt.plot([t_pretrain], [initial_error], 'ro', label='Initial Error')\n",
    "plt.xlabel('t')\n",
    "plt.ylabel('Error')\n",
    "plt.legend()\n",
    "plt.grid(True)\n",
    "plt.show()"
   ]
  },
  {
   "cell_type": "code",
   "execution_count": 35,
   "id": "422cdae1",
   "metadata": {},
   "outputs": [
    {
     "data": {
      "image/png": "[encoded data removed]",
      "text/plain": [
       "<Figure size 1000x600 with 2 Axes>"
      ]
     },
     "metadata": {},
     "output_type": "display_data"
    }
   ],
   "source": [
    "# plot the generated signal\n",
    "fig, ax = plt.subplots(2, 1, figsize=(10, 6))\n",
    "X, Y, T = generate_sequence(sf=sample_rate)\n",
    "ax[0].plot(T, X)\n",
    "ax[0].set_title('Chirp')\n",
    "ax[1].plot(T, Y)\n",
    "ax[1].set_title('Instantaneous Frequency')\n",
    "fig.tight_layout()\n",
    "plt.show()"
   ]
  },
  {
   "cell_type": "markdown",
   "id": "9a3c2230",
   "metadata": {},
   "source": [
    "## Using PyTorch RNN"
   ]
  },
  {
   "cell_type": "markdown",
   "id": "14849c5a",
   "metadata": {},
   "source": [
    "Anything wrong here?"
   ]
  },
  {
   "cell_type": "code",
   "execution_count": 1,
   "id": "e9c41c6f",
   "metadata": {},
   "outputs": [],
   "source": [
    "import torch\n",
    "import torch.nn as nn\n",
    "import numpy as np\n",
    "from tqdm import tqdm\n",
    "import matplotlib.pyplot as plt\n",
    "import random\n",
    "from collections import namedtuple\n",
    "from torch.nn import RNN"
   ]
  },
  {
   "cell_type": "code",
   "execution_count": 2,
   "id": "8bf2256e",
   "metadata": {},
   "outputs": [],
   "source": [
    "def set_seed(seed):\n",
    "    torch.manual_seed(seed)\n",
    "    np.random.seed(seed)\n",
    "    random.seed(seed)\n",
    "    if torch.cuda.is_available():\n",
    "        torch.cuda.manual_seed(seed)\n",
    "        torch.cuda.manual_seed_all(seed)\n",
    "    torch.backends.cudnn.deterministic = True\n",
    "    torch.backends.cudnn.benchmark = False"
   ]
  },
  {
   "cell_type": "code",
   "execution_count": 3,
   "id": "1061e0cf",
   "metadata": {},
   "outputs": [],
   "source": [
    "def generate_sequence(c=0.005, f_0=0, sf=10):\n",
    "    \"\"\"\n",
    "    Generate a linear chirp. x is the time-domain signal and f is the instantaneous frequency\n",
    "    \"\"\"\n",
    "    t = np.arange(0, 50, 1/sf)\n",
    "    f = c * t + f_0\n",
    "    phi = 2 * np.pi * (c / 2 * t**2 + f_0 * t)\n",
    "    x = np.sin(phi)\n",
    "    return x, f, t"
   ]
  },
  {
   "cell_type": "code",
   "execution_count": 4,
   "id": "34de1549",
   "metadata": {},
   "outputs": [],
   "source": [
    "class RNNCell(nn.Module):\n",
    "    def __init__(self, input_size, hidden_size, output_size):\n",
    "        super(RNNCell, self).__init__()\n",
    "        self.hidden_size = hidden_size\n",
    "\n",
    "        self.rnn = RNN(input_size, hidden_size, batch_first=True)\n",
    "        self.h2o = nn.Linear(hidden_size, output_size)\n",
    "\n",
    "    def forward(self, x):\n",
    "        h, _ = self.rnn(x)\n",
    "        output = self.h2o(h)\n",
    "        return output"
   ]
  },
  {
   "cell_type": "code",
   "execution_count": 5,
   "id": "ce5b2e04",
   "metadata": {},
   "outputs": [],
   "source": [
    "def train_rnn(rnn, data, t, t_pretrain, hp, ignore_pretrained_data=False):\n",
    "    # train the RNN on the first t steps of the sequence\n",
    "    X, Y = data\n",
    "    input_seq, output_seq = X[:t], Y[:t]\n",
    "    len_seq = len(input_seq)\n",
    "\n",
    "    x = torch.from_numpy(input_seq).view(1, -1, 1).float()\n",
    "    y = torch.from_numpy(output_seq).float()\n",
    "\n",
    "    rnn.train()\n",
    "    optimizer = torch.optim.Adam(rnn.parameters(), lr=hp.lr)\n",
    "    criterion = nn.MSELoss(reduction='none')\n",
    "    pbar = tqdm(range(hp.num_epochs))\n",
    "\n",
    "    for epoch in pbar:    \n",
    "        # iterate over the sequence\n",
    "        out = rnn(x)\n",
    "        \n",
    "        # compute loss\n",
    "        unmasked_losses = criterion(out.squeeze(), y)\n",
    "        if ignore_pretrained_data:\n",
    "            mask = torch.zeros_like(unmasked_losses, dtype=torch.bool)\n",
    "            mask[t_pretrain:] = True\n",
    "            masked_losses = unmasked_losses * mask.float()\n",
    "            loss = masked_losses.mean()\n",
    "        else:\n",
    "            loss = unmasked_losses.mean()\n",
    "\n",
    "        # backpropagation\n",
    "        optimizer.zero_grad()\n",
    "        loss.backward()\n",
    "        optimizer.step()\n",
    "        pbar.set_description(f\"Epoch {epoch+1}/{hp.num_epochs}, Loss: {loss.item()/len_seq:.4f}\")\n",
    "    return rnn\n",
    "\n",
    "def evaluate(rnn, data, t):\n",
    "    # get data (only evaluate on the future, beyond t)\n",
    "    X, Y = data\n",
    "    input_seq, output_seq = X, Y\n",
    "\n",
    "    x = torch.from_numpy(input_seq).view(1, -1, 1).float()\n",
    "    y = torch.from_numpy(output_seq).float()\n",
    "\n",
    "    rnn.eval()\n",
    "    with torch.no_grad():\n",
    "        out = rnn(x)\n",
    "        unmasked_losses = (out.squeeze() - y).abs().detach().numpy()\n",
    "    return np.mean(unmasked_losses[t:])\n",
    "\n",
    "def pretrain(data, t, hp, sample_rate, seed=1996):\n",
    "    \"\"\"\n",
    "    pretrain the RNN on the first t steps of the sequence\n",
    "    \"\"\"\n",
    "    t = int(t * sample_rate)\n",
    "\n",
    "    # initialize\n",
    "    set_seed(seed)\n",
    "    rnn = RNNCell(1, hp.hidden_size, 1)\n",
    "\n",
    "    if t > 0:\n",
    "        rnn = train_rnn(rnn, data, t, t, hp, ignore_pretrained_data=False)\n",
    "    error = evaluate(rnn, data, t)\n",
    "    return rnn.state_dict(), error\n",
    "\n",
    "def run_at_time(data, t, t_pretrain, pretrained_state_dict, hp, sample_rate, ignore_pretrained_data=False, finetune=True, seed=1996):\n",
    "    \"\"\"\n",
    "    We train an RNN to predict the instantaneous frequency in the future, given the time-domain value and the previous state.\n",
    "\n",
    "    The RNN pretrained on the first `t_pretrain` steps of the sequence.\n",
    "\n",
    "    When train == True: \n",
    "        The RNN is trained on the first t (including the pretraining data) steps of the sequence and evaluated on the future steps\n",
    "\n",
    "    When train == False\n",
    "        The RNN is not trained at all (no gradient steps)    \n",
    "    \"\"\"\n",
    "    t = int(t * sample_rate)\n",
    "    t_pretrain = int(t_pretrain * sample_rate)\n",
    "\n",
    "    # initialize\n",
    "    set_seed(seed)\n",
    "    rnn = RNNCell(1, hp.hidden_size, 1)\n",
    "    rnn.load_state_dict(pretrained_state_dict)\n",
    "\n",
    "    # train\n",
    "    if finetune:\n",
    "        rnn = train_rnn(rnn, data, t, t_pretrain, hp, ignore_pretrained_data=ignore_pretrained_data)\n",
    "\n",
    "    # evaluate\n",
    "    error = evaluate(rnn, data, t)\n",
    "    \n",
    "    return error"
   ]
  },
  {
   "cell_type": "code",
   "execution_count": 6,
   "id": "8b55b9bb",
   "metadata": {},
   "outputs": [],
   "source": [
    "def run_on_seed(\n",
    "        data, \n",
    "        t_pretrain, \n",
    "        t_list, \n",
    "        hp_pretrain, \n",
    "        hp_finetune, \n",
    "        sample_rate, \n",
    "        ignore_pretrained_data=False,\n",
    "        seed=1996\n",
    "    ):\n",
    "    \n",
    "    err_ft_list = []\n",
    "    err_noft_list = []\n",
    "\n",
    "    pretrained_state_dict, initial_error = pretrain(data, t_pretrain, hp_pretrain, sample_rate, seed=seed)\n",
    "\n",
    "    for t in t_list:\n",
    "        print(f\"t = {t}\")\n",
    "        err = run_at_time(data, t, t_pretrain, pretrained_state_dict, hp_finetune, sample_rate, ignore_pretrained_data=ignore_pretrained_data, finetune=True, seed=seed)\n",
    "        err_ft_list.append(err)\n",
    "\n",
    "        err = run_at_time(data, t, t_pretrain, pretrained_state_dict, hp_finetune, sample_rate, ignore_pretrained_data=ignore_pretrained_data, finetune=False, seed=seed)\n",
    "        err_noft_list.append(err)\n",
    "\n",
    "    return err_ft_list, err_noft_list, initial_error"
   ]
  },
  {
   "cell_type": "code",
   "execution_count": 18,
   "id": "44cb5eb9",
   "metadata": {},
   "outputs": [],
   "source": [
    "sample_rate = 10\n",
    "hidden_size = 8\n",
    "ignore_pretrained_data = False\n",
    "num_reps = 3\n",
    "\n",
    "lr_pretrain = 0.001\n",
    "num_epochs_pretrain = 100\n",
    "\n",
    "lr_finetune = 0.001\n",
    "num_epochs_finetune = 100\n",
    "\n",
    "t_pretrain = 10\n",
    "t_list = np.arange(10+1, 25, 1)\n",
    "\n",
    "Hyperparameters = namedtuple('Hyperparameters', ['hidden_size', 'lr', 'num_epochs'])\n",
    "hp_pretrain = Hyperparameters(hidden_size=hidden_size, lr=lr_pretrain, num_epochs=num_epochs_pretrain)\n",
    "hp_finetune = Hyperparameters(hidden_size=hidden_size, lr=lr_finetune, num_epochs=num_epochs_finetune)"
   ]
  },
  {
   "cell_type": "code",
   "execution_count": 19,
   "id": "4b0b8413",
   "metadata": {},
   "outputs": [],
   "source": [
    "X, Y, _ = generate_sequence(sf=sample_rate)"
   ]
  },
  {
   "cell_type": "code",
   "execution_count": 25,
   "id": "4dd2f4aa",
   "metadata": {},
   "outputs": [
    {
     "name": "stderr",
     "output_type": "stream",
     "text": [
      "  0%|          | 0/100 [00:00<?, ?it/s]"
     ]
    },
    {
     "name": "stderr",
     "output_type": "stream",
     "text": [
      "Epoch 100/100, Loss: 0.0000: 100%|██████████| 100/100 [00:01<00:00, 83.08it/s]\n"
     ]
    },
    {
     "name": "stdout",
     "output_type": "stream",
     "text": [
      "t = 11\n"
     ]
    },
    {
     "name": "stderr",
     "output_type": "stream",
     "text": [
      "Epoch 100/100, Loss: 0.0000: 100%|██████████| 100/100 [00:01<00:00, 74.15it/s]\n"
     ]
    },
    {
     "name": "stdout",
     "output_type": "stream",
     "text": [
      "t = 12\n"
     ]
    },
    {
     "name": "stderr",
     "output_type": "stream",
     "text": [
      "Epoch 100/100, Loss: 0.0000: 100%|██████████| 100/100 [00:01<00:00, 65.20it/s]\n"
     ]
    },
    {
     "name": "stdout",
     "output_type": "stream",
     "text": [
      "t = 13\n"
     ]
    },
    {
     "name": "stderr",
     "output_type": "stream",
     "text": [
      "Epoch 100/100, Loss: 0.0000: 100%|██████████| 100/100 [00:02<00:00, 46.07it/s]\n"
     ]
    },
    {
     "name": "stdout",
     "output_type": "stream",
     "text": [
      "t = 14\n"
     ]
    },
    {
     "name": "stderr",
     "output_type": "stream",
     "text": [
      "Epoch 100/100, Loss: 0.0000: 100%|██████████| 100/100 [00:02<00:00, 43.23it/s]\n"
     ]
    },
    {
     "name": "stdout",
     "output_type": "stream",
     "text": [
      "t = 15\n"
     ]
    },
    {
     "name": "stderr",
     "output_type": "stream",
     "text": [
      "Epoch 100/100, Loss: 0.0000: 100%|██████████| 100/100 [00:03<00:00, 31.96it/s]\n"
     ]
    },
    {
     "name": "stdout",
     "output_type": "stream",
     "text": [
      "t = 16\n"
     ]
    },
    {
     "name": "stderr",
     "output_type": "stream",
     "text": [
      "Epoch 100/100, Loss: 0.0000: 100%|██████████| 100/100 [00:02<00:00, 36.29it/s]\n"
     ]
    },
    {
     "name": "stdout",
     "output_type": "stream",
     "text": [
      "t = 17\n"
     ]
    },
    {
     "name": "stderr",
     "output_type": "stream",
     "text": [
      "Epoch 100/100, Loss: 0.0000: 100%|██████████| 100/100 [00:03<00:00, 29.73it/s]\n"
     ]
    },
    {
     "name": "stdout",
     "output_type": "stream",
     "text": [
      "t = 18\n"
     ]
    },
    {
     "name": "stderr",
     "output_type": "stream",
     "text": [
      "Epoch 100/100, Loss: 0.0000: 100%|██████████| 100/100 [00:03<00:00, 27.68it/s]\n"
     ]
    },
    {
     "name": "stdout",
     "output_type": "stream",
     "text": [
      "t = 19\n"
     ]
    },
    {
     "name": "stderr",
     "output_type": "stream",
     "text": [
      "Epoch 100/100, Loss: 0.0000: 100%|██████████| 100/100 [00:03<00:00, 29.64it/s]\n"
     ]
    },
    {
     "name": "stdout",
     "output_type": "stream",
     "text": [
      "t = 20\n"
     ]
    },
    {
     "name": "stderr",
     "output_type": "stream",
     "text": [
      "Epoch 100/100, Loss: 0.0000: 100%|██████████| 100/100 [00:04<00:00, 23.56it/s]\n"
     ]
    },
    {
     "name": "stdout",
     "output_type": "stream",
     "text": [
      "t = 21\n"
     ]
    },
    {
     "name": "stderr",
     "output_type": "stream",
     "text": [
      "Epoch 100/100, Loss: 0.0000: 100%|██████████| 100/100 [00:04<00:00, 21.91it/s]\n"
     ]
    },
    {
     "name": "stdout",
     "output_type": "stream",
     "text": [
      "t = 22\n"
     ]
    },
    {
     "name": "stderr",
     "output_type": "stream",
     "text": [
      "Epoch 100/100, Loss: 0.0000: 100%|██████████| 100/100 [00:04<00:00, 24.23it/s]\n"
     ]
    },
    {
     "name": "stdout",
     "output_type": "stream",
     "text": [
      "t = 23\n"
     ]
    },
    {
     "name": "stderr",
     "output_type": "stream",
     "text": [
      "Epoch 100/100, Loss: 0.0000: 100%|██████████| 100/100 [00:04<00:00, 22.83it/s]\n"
     ]
    },
    {
     "name": "stdout",
     "output_type": "stream",
     "text": [
      "t = 24\n"
     ]
    },
    {
     "name": "stderr",
     "output_type": "stream",
     "text": [
      "Epoch 100/100, Loss: 0.0000: 100%|██████████| 100/100 [00:04<00:00, 22.34it/s]\n",
      "Epoch 100/100, Loss: 0.0000: 100%|██████████| 100/100 [00:01<00:00, 69.33it/s]\n"
     ]
    },
    {
     "name": "stdout",
     "output_type": "stream",
     "text": [
      "t = 11\n"
     ]
    },
    {
     "name": "stderr",
     "output_type": "stream",
     "text": [
      "Epoch 100/100, Loss: 0.0000: 100%|██████████| 100/100 [00:01<00:00, 76.50it/s]\n"
     ]
    },
    {
     "name": "stdout",
     "output_type": "stream",
     "text": [
      "t = 12\n"
     ]
    },
    {
     "name": "stderr",
     "output_type": "stream",
     "text": [
      "Epoch 100/100, Loss: 0.0000: 100%|██████████| 100/100 [00:01<00:00, 63.86it/s]\n"
     ]
    },
    {
     "name": "stdout",
     "output_type": "stream",
     "text": [
      "t = 13\n"
     ]
    },
    {
     "name": "stderr",
     "output_type": "stream",
     "text": [
      "Epoch 100/100, Loss: 0.0000: 100%|██████████| 100/100 [00:02<00:00, 46.08it/s]\n"
     ]
    },
    {
     "name": "stdout",
     "output_type": "stream",
     "text": [
      "t = 14\n"
     ]
    },
    {
     "name": "stderr",
     "output_type": "stream",
     "text": [
      "Epoch 100/100, Loss: 0.0000: 100%|██████████| 100/100 [00:02<00:00, 45.38it/s]\n"
     ]
    },
    {
     "name": "stdout",
     "output_type": "stream",
     "text": [
      "t = 15\n"
     ]
    },
    {
     "name": "stderr",
     "output_type": "stream",
     "text": [
      "Epoch 100/100, Loss: 0.0000: 100%|██████████| 100/100 [00:03<00:00, 29.42it/s]\n"
     ]
    },
    {
     "name": "stdout",
     "output_type": "stream",
     "text": [
      "t = 16\n"
     ]
    },
    {
     "name": "stderr",
     "output_type": "stream",
     "text": [
      "Epoch 100/100, Loss: 0.0000: 100%|██████████| 100/100 [00:03<00:00, 30.56it/s]\n"
     ]
    },
    {
     "name": "stdout",
     "output_type": "stream",
     "text": [
      "t = 17\n"
     ]
    },
    {
     "name": "stderr",
     "output_type": "stream",
     "text": [
      "Epoch 100/100, Loss: 0.0000: 100%|██████████| 100/100 [00:02<00:00, 38.95it/s]\n"
     ]
    },
    {
     "name": "stdout",
     "output_type": "stream",
     "text": [
      "t = 18\n"
     ]
    },
    {
     "name": "stderr",
     "output_type": "stream",
     "text": [
      "Epoch 100/100, Loss: 0.0000: 100%|██████████| 100/100 [00:02<00:00, 33.78it/s]\n"
     ]
    },
    {
     "name": "stdout",
     "output_type": "stream",
     "text": [
      "t = 19\n"
     ]
    },
    {
     "name": "stderr",
     "output_type": "stream",
     "text": [
      "Epoch 100/100, Loss: 0.0000: 100%|██████████| 100/100 [00:03<00:00, 26.13it/s]\n"
     ]
    },
    {
     "name": "stdout",
     "output_type": "stream",
     "text": [
      "t = 20\n"
     ]
    },
    {
     "name": "stderr",
     "output_type": "stream",
     "text": [
      "Epoch 100/100, Loss: 0.0000: 100%|██████████| 100/100 [00:03<00:00, 25.72it/s]\n"
     ]
    },
    {
     "name": "stdout",
     "output_type": "stream",
     "text": [
      "t = 21\n"
     ]
    },
    {
     "name": "stderr",
     "output_type": "stream",
     "text": [
      "Epoch 100/100, Loss: 0.0000: 100%|██████████| 100/100 [00:04<00:00, 23.98it/s]\n"
     ]
    },
    {
     "name": "stdout",
     "output_type": "stream",
     "text": [
      "t = 22\n"
     ]
    },
    {
     "name": "stderr",
     "output_type": "stream",
     "text": [
      "Epoch 100/100, Loss: 0.0000: 100%|██████████| 100/100 [00:04<00:00, 23.87it/s]\n"
     ]
    },
    {
     "name": "stdout",
     "output_type": "stream",
     "text": [
      "t = 23\n"
     ]
    },
    {
     "name": "stderr",
     "output_type": "stream",
     "text": [
      "Epoch 100/100, Loss: 0.0000: 100%|██████████| 100/100 [00:04<00:00, 21.92it/s]\n"
     ]
    },
    {
     "name": "stdout",
     "output_type": "stream",
     "text": [
      "t = 24\n"
     ]
    },
    {
     "name": "stderr",
     "output_type": "stream",
     "text": [
      "Epoch 100/100, Loss: 0.0000: 100%|██████████| 100/100 [00:05<00:00, 18.67it/s]\n",
      "Epoch 100/100, Loss: 0.0000: 100%|██████████| 100/100 [00:01<00:00, 82.93it/s]\n"
     ]
    },
    {
     "name": "stdout",
     "output_type": "stream",
     "text": [
      "t = 11\n"
     ]
    },
    {
     "name": "stderr",
     "output_type": "stream",
     "text": [
      "Epoch 100/100, Loss: 0.0000: 100%|██████████| 100/100 [00:01<00:00, 69.13it/s]\n"
     ]
    },
    {
     "name": "stdout",
     "output_type": "stream",
     "text": [
      "t = 12\n"
     ]
    },
    {
     "name": "stderr",
     "output_type": "stream",
     "text": [
      "Epoch 100/100, Loss: 0.0000: 100%|██████████| 100/100 [00:01<00:00, 66.70it/s]\n"
     ]
    },
    {
     "name": "stdout",
     "output_type": "stream",
     "text": [
      "t = 13\n"
     ]
    },
    {
     "name": "stderr",
     "output_type": "stream",
     "text": [
      "Epoch 100/100, Loss: 0.0000: 100%|██████████| 100/100 [00:02<00:00, 38.43it/s]\n"
     ]
    },
    {
     "name": "stdout",
     "output_type": "stream",
     "text": [
      "t = 14\n"
     ]
    },
    {
     "name": "stderr",
     "output_type": "stream",
     "text": [
      "Epoch 100/100, Loss: 0.0000: 100%|██████████| 100/100 [00:02<00:00, 38.00it/s]\n"
     ]
    },
    {
     "name": "stdout",
     "output_type": "stream",
     "text": [
      "t = 15\n"
     ]
    },
    {
     "name": "stderr",
     "output_type": "stream",
     "text": [
      "Epoch 100/100, Loss: 0.0000: 100%|██████████| 100/100 [00:02<00:00, 40.30it/s]\n"
     ]
    },
    {
     "name": "stdout",
     "output_type": "stream",
     "text": [
      "t = 16\n"
     ]
    },
    {
     "name": "stderr",
     "output_type": "stream",
     "text": [
      "Epoch 100/100, Loss: 0.0000: 100%|██████████| 100/100 [00:02<00:00, 41.29it/s]\n"
     ]
    },
    {
     "name": "stdout",
     "output_type": "stream",
     "text": [
      "t = 17\n"
     ]
    },
    {
     "name": "stderr",
     "output_type": "stream",
     "text": [
      "Epoch 100/100, Loss: 0.0000: 100%|██████████| 100/100 [00:02<00:00, 36.86it/s]\n"
     ]
    },
    {
     "name": "stdout",
     "output_type": "stream",
     "text": [
      "t = 18\n"
     ]
    },
    {
     "name": "stderr",
     "output_type": "stream",
     "text": [
      "Epoch 100/100, Loss: 0.0000: 100%|██████████| 100/100 [00:02<00:00, 40.13it/s]\n"
     ]
    },
    {
     "name": "stdout",
     "output_type": "stream",
     "text": [
      "t = 19\n"
     ]
    },
    {
     "name": "stderr",
     "output_type": "stream",
     "text": [
      "Epoch 100/100, Loss: 0.0000: 100%|██████████| 100/100 [00:03<00:00, 31.34it/s]\n"
     ]
    },
    {
     "name": "stdout",
     "output_type": "stream",
     "text": [
      "t = 20\n"
     ]
    },
    {
     "name": "stderr",
     "output_type": "stream",
     "text": [
      "Epoch 100/100, Loss: 0.0000: 100%|██████████| 100/100 [00:03<00:00, 27.90it/s]\n"
     ]
    },
    {
     "name": "stdout",
     "output_type": "stream",
     "text": [
      "t = 21\n"
     ]
    },
    {
     "name": "stderr",
     "output_type": "stream",
     "text": [
      "Epoch 100/100, Loss: 0.0000: 100%|██████████| 100/100 [00:03<00:00, 27.71it/s]\n"
     ]
    },
    {
     "name": "stdout",
     "output_type": "stream",
     "text": [
      "t = 22\n"
     ]
    },
    {
     "name": "stderr",
     "output_type": "stream",
     "text": [
      "Epoch 100/100, Loss: 0.0000: 100%|██████████| 100/100 [00:04<00:00, 23.66it/s]\n"
     ]
    },
    {
     "name": "stdout",
     "output_type": "stream",
     "text": [
      "t = 23\n"
     ]
    },
    {
     "name": "stderr",
     "output_type": "stream",
     "text": [
      "Epoch 100/100, Loss: 0.0000: 100%|██████████| 100/100 [00:04<00:00, 24.26it/s]\n"
     ]
    },
    {
     "name": "stdout",
     "output_type": "stream",
     "text": [
      "t = 24\n"
     ]
    },
    {
     "name": "stderr",
     "output_type": "stream",
     "text": [
      "Epoch 100/100, Loss: 0.0000: 100%|██████████| 100/100 [00:04<00:00, 24.85it/s]\n"
     ]
    }
   ],
   "source": [
    "err_ft = []\n",
    "err_noft = []\n",
    "err_init = []\n",
    "\n",
    "for _ in range(num_reps):\n",
    "    # seed = random.randint(0, 10000)\n",
    "    errs = run_on_seed(\n",
    "        (X, Y), \n",
    "        t_pretrain, \n",
    "        t_list, \n",
    "        hp_pretrain, \n",
    "        hp_finetune, \n",
    "        sample_rate, \n",
    "        ignore_pretrained_data=ignore_pretrained_data,\n",
    "        seed=1996\n",
    "    )\n",
    "    err_ft.append(errs[0])\n",
    "    err_noft.append(errs[1])\n",
    "    err_init.append(errs[2])"
   ]
  },
  {
   "cell_type": "code",
   "execution_count": 28,
   "id": "b17f81ef",
   "metadata": {},
   "outputs": [],
   "source": [
    "err_ft_mean = np.mean(err_ft, axis=0)\n",
    "err_noft_mean = np.mean(err_noft, axis=0)\n",
    "err_init_mean = np.mean(err_init, axis=0)\n",
    "\n",
    "err_ft_std = np.std(err_ft, axis=0)\n",
    "err_noft_std = np.std(err_noft, axis=0)\n",
    "err_init_std = np.std(err_init, axis=0)\n",
    "\n",
    "# Calculate 95% confidence interval for error bars\n",
    "z_score = 1.96\n",
    "err_ft_margin = z_score * err_ft_std / np.sqrt(len(err_ft))\n",
    "err_noft_margin = z_score * err_noft_std / np.sqrt(len(err_noft))"
   ]
  },
  {
   "cell_type": "code",
   "execution_count": 29,
   "id": "a1614e63",
   "metadata": {},
   "outputs": [
    {
     "data": {
      "image/png": "[encoded data removed]",
      "text/plain": [
       "<Figure size 1000x600 with 1 Axes>"
      ]
     },
     "metadata": {},
     "output_type": "display_data"
    }
   ],
   "source": [
    "fig, ax = plt.subplots(figsize=(10, 6))\n",
    "\n",
    "color = '#377eb8'\n",
    "ax.plot(t_list, err_ft_mean, label='Finetuning', color=color)\n",
    "ax.errorbar(t_list, err_ft_mean, yerr=err_ft_margin, fmt='o', capsize=5, color=color)\n",
    "\n",
    "color = '#4daf4a'\n",
    "ax.plot(t_list, err_noft_mean, label='No Finetuning', color=color)\n",
    "ax.errorbar(t_list, err_noft_mean, yerr=err_noft_margin, fmt='o', capsize=5, color=color)\n",
    "\n",
    "\n",
    "ax.plot([t_pretrain], [err_init_mean], 'ro', label='Initial Error')\n",
    "\n",
    "ax.set_xlabel('t')\n",
    "ax.set_ylabel('Error')\n",
    "ax.legend()\n",
    "ax.grid(True)\n",
    "plt.show()"
   ]
  },
  {
   "cell_type": "code",
   "execution_count": 24,
   "id": "eb83db14",
   "metadata": {},
   "outputs": [
    {
     "data": {
      "text/plain": [
       "[np.float32(0.13944052), np.float32(0.09663317), np.float32(0.13812982)]"
      ]
     },
     "execution_count": 24,
     "metadata": {},
     "output_type": "execute_result"
    }
   ],
   "source": [
    "err_init"
   ]
  },
  {
   "cell_type": "code",
   "execution_count": 114,
   "id": "e1f7637f",
   "metadata": {},
   "outputs": [],
   "source": [
    "X, Y, _ = generate_sequence(sf=sample_rate)"
   ]
  },
  {
   "cell_type": "code",
   "execution_count": 115,
   "id": "19c73cf6",
   "metadata": {},
   "outputs": [
    {
     "name": "stderr",
     "output_type": "stream",
     "text": [
      "  0%|          | 0/100 [00:00<?, ?it/s]"
     ]
    },
    {
     "name": "stderr",
     "output_type": "stream",
     "text": [
      "Epoch 100/100, Loss: 0.0000: 100%|██████████| 100/100 [00:04<00:00, 20.18it/s]\n"
     ]
    },
    {
     "name": "stdout",
     "output_type": "stream",
     "text": [
      "t = 11\n"
     ]
    },
    {
     "name": "stderr",
     "output_type": "stream",
     "text": [
      "Epoch 100/100, Loss: 0.0000: 100%|██████████| 100/100 [00:02<00:00, 41.76it/s]\n"
     ]
    },
    {
     "name": "stdout",
     "output_type": "stream",
     "text": [
      "t = 12\n"
     ]
    },
    {
     "name": "stderr",
     "output_type": "stream",
     "text": [
      "Epoch 100/100, Loss: 0.0000: 100%|██████████| 100/100 [00:02<00:00, 38.72it/s]\n"
     ]
    },
    {
     "name": "stdout",
     "output_type": "stream",
     "text": [
      "t = 13\n"
     ]
    },
    {
     "name": "stderr",
     "output_type": "stream",
     "text": [
      "Epoch 100/100, Loss: 0.0000: 100%|██████████| 100/100 [00:05<00:00, 17.49it/s]\n"
     ]
    },
    {
     "name": "stdout",
     "output_type": "stream",
     "text": [
      "t = 14\n"
     ]
    },
    {
     "name": "stderr",
     "output_type": "stream",
     "text": [
      "Epoch 100/100, Loss: 0.0000: 100%|██████████| 100/100 [00:05<00:00, 17.10it/s]\n"
     ]
    },
    {
     "name": "stdout",
     "output_type": "stream",
     "text": [
      "t = 15\n"
     ]
    },
    {
     "name": "stderr",
     "output_type": "stream",
     "text": [
      "Epoch 100/100, Loss: 0.0000: 100%|██████████| 100/100 [00:05<00:00, 18.48it/s]\n"
     ]
    },
    {
     "name": "stdout",
     "output_type": "stream",
     "text": [
      "t = 16\n"
     ]
    },
    {
     "name": "stderr",
     "output_type": "stream",
     "text": [
      "Epoch 100/100, Loss: 0.0000: 100%|██████████| 100/100 [00:07<00:00, 13.93it/s]\n"
     ]
    },
    {
     "name": "stdout",
     "output_type": "stream",
     "text": [
      "t = 17\n"
     ]
    },
    {
     "name": "stderr",
     "output_type": "stream",
     "text": [
      "Epoch 100/100, Loss: 0.0000: 100%|██████████| 100/100 [00:05<00:00, 17.37it/s]\n"
     ]
    },
    {
     "name": "stdout",
     "output_type": "stream",
     "text": [
      "t = 18\n"
     ]
    },
    {
     "name": "stderr",
     "output_type": "stream",
     "text": [
      "Epoch 100/100, Loss: 0.0000: 100%|██████████| 100/100 [00:07<00:00, 13.97it/s]\n"
     ]
    },
    {
     "name": "stdout",
     "output_type": "stream",
     "text": [
      "t = 19\n"
     ]
    },
    {
     "name": "stderr",
     "output_type": "stream",
     "text": [
      "Epoch 100/100, Loss: 0.0000: 100%|██████████| 100/100 [00:11<00:00,  9.00it/s]\n"
     ]
    },
    {
     "name": "stdout",
     "output_type": "stream",
     "text": [
      "t = 20\n"
     ]
    },
    {
     "name": "stderr",
     "output_type": "stream",
     "text": [
      "Epoch 100/100, Loss: 0.0000: 100%|██████████| 100/100 [00:13<00:00,  7.63it/s]\n"
     ]
    },
    {
     "name": "stdout",
     "output_type": "stream",
     "text": [
      "t = 21\n"
     ]
    },
    {
     "name": "stderr",
     "output_type": "stream",
     "text": [
      "Epoch 100/100, Loss: 0.0000: 100%|██████████| 100/100 [00:12<00:00,  8.28it/s]\n"
     ]
    },
    {
     "name": "stdout",
     "output_type": "stream",
     "text": [
      "t = 22\n"
     ]
    },
    {
     "name": "stderr",
     "output_type": "stream",
     "text": [
      "Epoch 100/100, Loss: 0.0000: 100%|██████████| 100/100 [00:17<00:00,  5.56it/s]\n"
     ]
    },
    {
     "name": "stdout",
     "output_type": "stream",
     "text": [
      "t = 23\n"
     ]
    },
    {
     "name": "stderr",
     "output_type": "stream",
     "text": [
      "Epoch 100/100, Loss: 0.0000: 100%|██████████| 100/100 [00:23<00:00,  4.24it/s]\n"
     ]
    },
    {
     "name": "stdout",
     "output_type": "stream",
     "text": [
      "t = 24\n"
     ]
    },
    {
     "name": "stderr",
     "output_type": "stream",
     "text": [
      "Epoch 100/100, Loss: 0.0000: 100%|██████████| 100/100 [00:18<00:00,  5.31it/s]\n"
     ]
    }
   ],
   "source": [
    "err_ft_list = []\n",
    "err_noft_list = []\n",
    "\n",
    "pretrained_state_dict, initial_error = pretrain((X, Y), t_pretrain, hp_pretrain, sample_rate)\n",
    "\n",
    "for t in t_list:\n",
    "    print(f\"t = {t}\")\n",
    "    err = run_at_time((X, Y), t, t_pretrain, pretrained_state_dict, hp_finetune, sample_rate, ignore_pretrained_data=False, finetune=True)\n",
    "    err_ft_list.append(err)\n",
    "\n",
    "    err = run_at_time((X, Y), t, t_pretrain, pretrained_state_dict, hp_finetune, sample_rate, ignore_pretrained_data=False, finetune=False)\n",
    "    err_noft_list.append(err)"
   ]
  },
  {
   "cell_type": "code",
   "execution_count": 116,
   "id": "25b05bae",
   "metadata": {},
   "outputs": [
    {
     "data": {
      "image/png": "[encoded data removed]",
      "text/plain": [
       "<Figure size 1000x600 with 1 Axes>"
      ]
     },
     "metadata": {},
     "output_type": "display_data"
    }
   ],
   "source": [
    "plt.figure(figsize=(10, 6))\n",
    "plt.plot(t_list, err_ft_list, label='Finetuning', marker='o')\n",
    "plt.plot(t_list, err_noft_list, label='No Finetuning', marker='x')\n",
    "plt.plot([t_pretrain], [initial_error], 'ro', label='Initial Error')\n",
    "plt.xlabel('t')\n",
    "plt.ylabel('Error')\n",
    "plt.legend()\n",
    "plt.grid(True)\n",
    "plt.show()"
   ]
  },
  {
   "cell_type": "code",
   "execution_count": null,
   "id": "102c7718",
   "metadata": {},
   "outputs": [],
   "source": []
  }
 ],
 "metadata": {
  "kernelspec": {
   "display_name": ".venv",
   "language": "python",
   "name": "python3"
  },
  "language_info": {
   "codemirror_mode": {
    "name": "ipython",
    "version": 3
   },
   "file_extension": ".py",
   "mimetype": "text/x-python",
   "name": "python",
   "nbconvert_exporter": "python",
   "pygments_lexer": "ipython3",
   "version": "3.11.12"
  }
 },
 "nbformat": 4,
 "nbformat_minor": 5
}
